{
 "cells": [
  {
   "cell_type": "code",
   "execution_count": 54,
   "metadata": {},
   "outputs": [],
   "source": [
    "import csv\n",
    "from collections import defaultdict\n",
    "from collections import Counter\n",
    "#The total number of votes cast\n",
    "#A complete list of candidates who received votes\n",
    "#The percentage of votes each candidate won\n",
    "#The total number of votes each candidate won\n",
    "#The winner of the election based on popular vote"
   ]
  },
  {
   "cell_type": "code",
   "execution_count": 55,
   "metadata": {},
   "outputs": [
    {
     "name": "stdout",
     "output_type": "stream",
     "text": [
      "Counter({'Khan': 6654693, 'Correy': 2112600, 'Li': 1478820, \"O'Tooley\": 316890})\n"
     ]
    }
   ],
   "source": [
    "with open('election_data.csv') as electd:\n",
    "    \n",
    "    csvreader = csv.DictReader(electd)\n",
    "\n",
    "    \n",
    "    #extract each row\n",
    "    for row in csvreader:\n",
    "        for header, value in row.items():\n",
    "            try:\n",
    "                data[header].append(value)\n",
    "            except KeyError:\n",
    "                data[header] = [value]\n",
    "                \n",
    "VoterIDs = data['Voter ID']\n",
    "Counties = data['County']\n",
    "Candidates = data['Candidate']\n",
    "\n",
    "results = Counter(Candidates)\n",
    "total_ballots = sum(results.values())\n",
    "totalVotesKhan = results['Khan']\n",
    "percentVotesKhan = totalVotesKhan/total_ballots\n",
    "totalVotesCorrey = results['Correy']\n",
    "percentVotesCorrey = totalVotesCorrey/total_ballots\n",
    "totalVotesLi = results['Li']\n",
    "percentVotesLi = totalVotesLi/total_ballots\n",
    "totalVotesOTooley = results[\"O'Tooley\"]\n",
    "percentVotesOTooley = totalVotesOTooley/total_ballots\n",
    "winner = max(results,key=results.get)\n",
    "otic = \"'\"\n",
    "newln = '\\n'    \n",
    "    \n"
   ]
  },
  {
   "cell_type": "code",
   "execution_count": 57,
   "metadata": {},
   "outputs": [
    {
     "name": "stdout",
     "output_type": "stream",
     "text": [
      "Election Result\n",
      "----------------------------\n",
      "Total Votes:        10563003\n",
      "----------------------------\n",
      "Khan     : 63.0000% (6654693)\n",
      "Correy   : 20.0000% (2112600)\n",
      "Li       : 14.0000% (1478820)\n",
      "O'Tooley :  3.0000% (316890)\n",
      "----------------------------\n",
      "Winner:        Khan\n",
      "----------------------------\n"
     ]
    }
   ],
   "source": [
    "print(f'Election Result')\n",
    "print(f'----------------------------')\n",
    "print(f'Total Votes:        {total_ballots}')\n",
    "print(f'----------------------------')\n",
    "print(f'Khan     : {(percentVotesKhan*100):6.4f}% ({totalVotesKhan})')\n",
    "print(f'Correy   : {(percentVotesCorrey*100):6.4f}% ({totalVotesCorrey})')\n",
    "print(f'Li       : {(percentVotesLi*100):6.4f}% ({totalVotesLi})')\n",
    "print(f'O{otic}Tooley :  {(percentVotesOTooley*100):6.4f}% ({totalVotesOTooley})')\n",
    "print(f'----------------------------')\n",
    "print(f'Winner:        {winner}')\n",
    "print(f'----------------------------')"
   ]
  },
  {
   "cell_type": "code",
   "execution_count": 58,
   "metadata": {},
   "outputs": [],
   "source": [
    "f = open(\"electionresults\",'w')\n",
    "f.write(f'Election Result{newln}')\n",
    "f.write(f'----------------------------{newln}')\n",
    "f.write(f'Total Votes:        {total_ballots}{newln}')\n",
    "f.write(f'----------------------------{newln}')\n",
    "f.write(f'Khan     : {(percentVotesKhan*100):6.4f}% ({totalVotesKhan}){newln}')\n",
    "f.write(f'Correy   : {(percentVotesCorrey*100):6.4f}% ({totalVotesCorrey}){newln}')\n",
    "f.write(f'Li       : {(percentVotesLi*100):6.4f}% ({totalVotesLi}){newln}')\n",
    "f.write(f'O{otic}Tooley :  {(percentVotesOTooley*100):6.4f}% ({totalVotesOTooley}){newln}')\n",
    "f.write(f'----------------------------{newln}')\n",
    "f.write(f'Winner:        {winner}{newln}')\n",
    "f.write(f'----------------------------{newln}')\n",
    "f.close()"
   ]
  }
 ],
 "metadata": {
  "kernelspec": {
   "display_name": "Python 3",
   "language": "python",
   "name": "python3"
  },
  "language_info": {
   "codemirror_mode": {
    "name": "ipython",
    "version": 3
   },
   "file_extension": ".py",
   "mimetype": "text/x-python",
   "name": "python",
   "nbconvert_exporter": "python",
   "pygments_lexer": "ipython3",
   "version": "3.7.0"
  }
 },
 "nbformat": 4,
 "nbformat_minor": 2
}
