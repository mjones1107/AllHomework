{
 "cells": [
  {
   "cell_type": "code",
   "execution_count": 128,
   "metadata": {},
   "outputs": [],
   "source": [
    "import csv\n",
    "date = []\n",
    "pnl = []\n",
    "fields = []"
   ]
  },
  {
   "cell_type": "code",
   "execution_count": 129,
   "metadata": {},
   "outputs": [],
   "source": [
    "with open('budget_data.csv') as budgetData:\n",
    "    budgetData = csv.reader(budgetData)\n",
    "    totalmonths = 0\n",
    "    maxnum = 0\n",
    "    minnum = 0\n",
    "    totalpnl = 0\n",
    "    fields = next(budgetData)\n",
    "    for row in budgetData:\n",
    "        #get total months\n",
    "        totalmonths = totalmonths + 1\n",
    "        #convert string to int and total $\n",
    "        totalpnl += int(row[1]) \n",
    "        #get maximum and minimum value information\n",
    "        if int(row[1]) > maxnum:\n",
    "            maxnum, maxdate = int(row[1]),row[0]\n",
    "        if int(row[1]) < minnum:\n",
    "            minnum, mindate = int(row[1]), row[0]\n",
    "        date.append(row[0])\n",
    "        pnl.append(row[1])\n",
    "   "
   ]
  },
  {
   "cell_type": "code",
   "execution_count": 130,
   "metadata": {},
   "outputs": [],
   "source": [
    "#averagechange\n",
    "avgamt = totalpnl/totalmonths"
   ]
  },
  {
   "cell_type": "code",
   "execution_count": 131,
   "metadata": {},
   "outputs": [
    {
     "name": "stdout",
     "output_type": "stream",
     "text": [
      "Financial Analysis\n",
      "----------------------------\n",
      "Total Months:  86\n",
      "Total: $ 38382578\n",
      "Average Change: $ 446309.05\n",
      "Greatest Increase in Profits: $ 1170593 on  Feb-2012\n",
      "Greatest Decrease in Profits: $ -1196225 on  Sep-2013\n"
     ]
    }
   ],
   "source": [
    "print('Financial Analysis')\n",
    "print('----------------------------')\n",
    "print(\"Total Months: \",totalmonths)\n",
    "print(\"Total: $\",totalpnl)\n",
    "print(\"Average Change: $\",'{:06.2f}'.format(avgamt))\n",
    "print(\"Greatest Increase in Profits: $\",maxnum, \"on \",maxdate)\n",
    "print(\"Greatest Decrease in Profits: $\",minnum, \"on \", mindate)"
   ]
  },
  {
   "cell_type": "code",
   "execution_count": 139,
   "metadata": {},
   "outputs": [],
   "source": [
    "f = open(\"pybankresults\", \"w\")\n",
    "f.write('Financial Analysis'+'\\n')\n",
    "f.write('----------------------------'+'\\n')\n",
    "f.write(\"Total Months: \"+str(totalmonths)+'\\n')\n",
    "f.write(\"Total: $\"+str(totalpnl)+'\\n')\n",
    "f.write(\"Average Change: $\"+'{:06.2f}'.format(avgamt) +'\\n')\n",
    "f.write(\"Greatest Increase in Profits: $\"+ str(maxnum) + \" on \"+ str(maxdate) + '\\n')\n",
    "f.write(\"Greatest Decrease in Profits: $\"+ str(minnum) + \" on \" + str(mindate) + '\\n')\n",
    "\n",
    "f.close()"
   ]
  },
  {
   "cell_type": "code",
   "execution_count": null,
   "metadata": {},
   "outputs": [],
   "source": []
  }
 ],
 "metadata": {
  "kernelspec": {
   "display_name": "Python 3",
   "language": "python",
   "name": "python3"
  },
  "language_info": {
   "codemirror_mode": {
    "name": "ipython",
    "version": 3
   },
   "file_extension": ".py",
   "mimetype": "text/x-python",
   "name": "python",
   "nbconvert_exporter": "python",
   "pygments_lexer": "ipython3",
   "version": "3.7.0"
  }
 },
 "nbformat": 4,
 "nbformat_minor": 2
}
